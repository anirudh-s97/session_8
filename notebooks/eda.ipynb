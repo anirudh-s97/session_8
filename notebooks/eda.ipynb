{
 "cells": [
  {
   "cell_type": "code",
   "execution_count": 1,
   "metadata": {},
   "outputs": [],
   "source": [
    "import sys\n",
    "sys.path.append('..')\n",
    "from src.cifar_10_eda import CIFAR10EDA"
   ]
  },
  {
   "cell_type": "code",
   "execution_count": 2,
   "metadata": {},
   "outputs": [
    {
     "name": "stdout",
     "output_type": "stream",
     "text": [
      "Files already downloaded and verified\n",
      "Files already downloaded and verified\n"
     ]
    }
   ],
   "source": [
    "eda = CIFAR10EDA()"
   ]
  },
  {
   "cell_type": "code",
   "execution_count": 3,
   "metadata": {},
   "outputs": [
    {
     "name": "stdout",
     "output_type": "stream",
     "text": [
      "Generating random image samples...\n",
      "Shape of the image is torch.Size([3, 32, 32])\n"
     ]
    }
   ],
   "source": [
    "print(\"Generating random image samples...\")\n",
    "eda.show_random_images()"
   ]
  },
  {
   "cell_type": "code",
   "execution_count": 4,
   "metadata": {},
   "outputs": [
    {
     "name": "stdout",
     "output_type": "stream",
     "text": [
      "Plotting class distribution...\n"
     ]
    }
   ],
   "source": [
    "# Plot class distribution\n",
    "print(\"Plotting class distribution...\")\n",
    "eda.plot_class_distribution()"
   ]
  },
  {
   "cell_type": "code",
   "execution_count": 5,
   "metadata": {},
   "outputs": [
    {
     "name": "stdout",
     "output_type": "stream",
     "text": [
      "Analyzing pixel statistics...\n",
      "\n",
      "Channel-wise mean: tensor([0.4914, 0.4822, 0.4465])\n",
      "Channel-wise standard deviation: tensor([0.2470, 0.2435, 0.2616])\n"
     ]
    }
   ],
   "source": [
    "# Analyze pixel statistics\n",
    "print(\"Analyzing pixel statistics...\")\n",
    "mean, std = eda.analyze_pixel_statistics()\n",
    "print(f\"\\nChannel-wise mean: {mean}\")\n",
    "print(f\"Channel-wise standard deviation: {std}\")"
   ]
  },
  {
   "cell_type": "code",
   "execution_count": 6,
   "metadata": {},
   "outputs": [
    {
     "name": "stdout",
     "output_type": "stream",
     "text": [
      "Analyzing image brightness...\n"
     ]
    }
   ],
   "source": [
    "\n",
    "# Plot brightness distribution\n",
    "print(\"Analyzing image brightness...\")\n",
    "eda.plot_image_brightness()\n"
   ]
  },
  {
   "cell_type": "code",
   "execution_count": 7,
   "metadata": {},
   "outputs": [
    {
     "name": "stdout",
     "output_type": "stream",
     "text": [
      "Generating class samples...\n"
     ]
    }
   ],
   "source": [
    "# Plot class samples\n",
    "print(\"Generating class samples...\")\n",
    "eda.plot_class_samples()"
   ]
  }
 ],
 "metadata": {
  "kernelspec": {
   "display_name": "base",
   "language": "python",
   "name": "python3"
  },
  "language_info": {
   "codemirror_mode": {
    "name": "ipython",
    "version": 3
   },
   "file_extension": ".py",
   "mimetype": "text/x-python",
   "name": "python",
   "nbconvert_exporter": "python",
   "pygments_lexer": "ipython3",
   "version": "3.10.10"
  }
 },
 "nbformat": 4,
 "nbformat_minor": 2
}
